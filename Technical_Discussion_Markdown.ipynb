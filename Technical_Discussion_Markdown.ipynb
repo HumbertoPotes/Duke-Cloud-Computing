{
 "cells": [
  {
   "cell_type": "code",
   "execution_count": 1,
   "metadata": {},
   "outputs": [
    {
     "name": "stdout",
     "output_type": "stream",
     "text": [
      "hello world\n"
     ]
    }
   ],
   "source": [
    "print(\"hello world\")"
   ]
  },
  {
   "cell_type": "markdown",
   "metadata": {},
   "source": [
    "# Heading\n",
    "## Smaller heading\n",
    "> You miss 100% of the shots you don't take -Wayne Gretzky -Michael Scott\n",
    "\n",
    "Lets quickly [link](https://www.pokebip.com/pages/jeuxvideo/ssb_wiiu_3ds/images/link.png)\n",
    "\n",
    "Top three office characters\n",
    "1. Creed\n",
    "2. Michael Scott\n",
    "3. Dwight K. Schrute"
   ]
  },
  {
   "cell_type": "code",
   "execution_count": null,
   "metadata": {},
   "outputs": [],
   "source": []
  }
 ],
 "metadata": {
  "kernelspec": {
   "display_name": "Python 3",
   "language": "python",
   "name": "python3"
  },
  "language_info": {
   "codemirror_mode": {
    "name": "ipython",
    "version": 3
   },
   "file_extension": ".py",
   "mimetype": "text/x-python",
   "name": "python",
   "nbconvert_exporter": "python",
   "pygments_lexer": "ipython3",
   "version": "3.7.3"
  }
 },
 "nbformat": 4,
 "nbformat_minor": 2
}
