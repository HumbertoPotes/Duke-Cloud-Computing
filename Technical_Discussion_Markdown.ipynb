{
  "cells": [
    {
      "cell_type": "markdown",
      "metadata": {
        "id": "view-in-github",
        "colab_type": "text"
      },
      "source": [
        "<a href=\"https://colab.research.google.com/github/HumbertoPotes/Duke-Cloud-Computing/blob/main/Technical_Discussion_Markdown.ipynb\" target=\"_parent\"><img src=\"https://colab.research.google.com/assets/colab-badge.svg\" alt=\"Open In Colab\"/></a>"
      ]
    },
    {
      "cell_type": "code",
      "execution_count": null,
      "metadata": {
        "id": "hKkCxzjGJ5qo",
        "outputId": "2d1ace12-feb7-4f24-e446-2e709aaf763f"
      },
      "outputs": [
        {
          "name": "stdout",
          "output_type": "stream",
          "text": [
            "hello world\n"
          ]
        }
      ],
      "source": [
        "print(\"hello world\")"
      ]
    },
    {
      "cell_type": "markdown",
      "metadata": {
        "id": "MMKPNvtRJ5qv"
      },
      "source": [
        "# Heading\n",
        "## Smaller heading\n",
        "> You miss 100% of the shots you don't take -Wayne Gretzky -Michael Scott\n",
        "\n",
        "Lets quickly [link](https://www.pokebip.com/pages/jeuxvideo/ssb_wiiu_3ds/images/link.png)\n",
        "\n",
        "Top three office characters\n",
        "1. Creed\n",
        "2. Michael Scott\n",
        "3. Dwight K. Schrute"
      ]
    },
    {
      "cell_type": "code",
      "execution_count": null,
      "metadata": {
        "id": "Tbx5b20tJ5q3"
      },
      "outputs": [],
      "source": [
        ""
      ]
    }
  ],
  "metadata": {
    "kernelspec": {
      "display_name": "Python 3",
      "language": "python",
      "name": "python3"
    },
    "language_info": {
      "codemirror_mode": {
        "name": "ipython",
        "version": 3
      },
      "file_extension": ".py",
      "mimetype": "text/x-python",
      "name": "python",
      "nbconvert_exporter": "python",
      "pygments_lexer": "ipython3",
      "version": "3.7.3"
    },
    "colab": {
      "name": "Technical_Discussion_Markdown.ipynb",
      "provenance": [],
      "include_colab_link": true
    }
  },
  "nbformat": 4,
  "nbformat_minor": 0
}